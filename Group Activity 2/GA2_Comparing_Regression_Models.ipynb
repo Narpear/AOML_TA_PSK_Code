{
 "cells": [
  {
   "cell_type": "markdown",
   "metadata": {},
   "source": [
    "## Dataset Information \n",
    "https://www.kaggle.com/datasets/kumarajarshi/life-expectancy-who/data"
   ]
  },
  {
   "cell_type": "markdown",
   "metadata": {},
   "source": [
    "\n",
    "### Columns:\n",
    "• Country: Country name\n",
    "\n",
    "• Year: Year of data collection\n",
    "\n",
    "• Status: Developed/Developing status\n",
    "\n",
    "• Life Expectancy: Life expectancy in age\n",
    "\n",
    "• Adult Mortality: Adult Mortality Rates of both sexes (probability of dying between 15 and 60 years per 1000 population)\n",
    "\n",
    "• Infant Deaths: Number of Infant Deaths per 1000 population\n",
    "\n",
    "• Alcohol: Alcohol, recorded per capita (15+) consumption (in litres of pure alcohol)\n",
    "\n",
    "• Percentage Expenditure: Expenditure on health as a percentage of Gross Domestic Product per capita(%)\n",
    "\n",
    "• Hepatitis B: Hepatitis B (HepB) immunization coverage among 1-year-olds (%)\n",
    "\n",
    "• Measles: Measles - number of reported cases per 1000 population\n",
    "\n",
    "• BMI: Average Body Mass Index of entire population\n",
    "\n",
    "• Under-five Deaths: Number of under-five deaths per 1000 population\n",
    "\n",
    "• Polio: Polio (Pol3) immunization coverage among 1-year-olds (%)\n",
    "\n",
    "• Total Expenditure: General government expenditure on health as a percentage of total government expenditure (%)\n",
    "\n",
    "• Diphtheria: Diphtheria tetanus toxoid and pertussis (DTP3) immunization coverage among 1-year-olds (%)\n",
    "\n",
    "• HIV/AIDS: Deaths per 1000 live births HIV/AIDS (0-4 years)\n",
    "\n",
    "• GDP: Gross Domestic Product per capita (in USD)\n",
    "\n",
    "• Population: Population of the country\n",
    "\n",
    "• Thinness 1-19 years: Prevalence of thinness among children and adolescents for Age 10 to 19 (% )\n",
    "\n",
    "• Thinness 5-6 years: Prevalance of thinness among children for Age 5 to 9(%)\n",
    "\n",
    "• Income Composition of Resources: Human Development Index in terms of income composition of resources (index ranging from 0 to 1)\n",
    "\n",
    "• Schooling: Number of years of Schooling(years)"
   ]
  },
  {
   "cell_type": "markdown",
   "metadata": {},
   "source": [
    "## Processing the Dataset\n",
    "You are free to edit this to process the data differently, or to perform exploratory data analysis (EDA) before constructing your models."
   ]
  },
  {
   "cell_type": "code",
   "execution_count": null,
   "metadata": {},
   "outputs": [],
   "source": [
    "import pandas as pd\n",
    "import numpy as np\n",
    "from sklearn.model_selection import train_test_split\n",
    "from sklearn.linear_model import LinearRegression, Lasso, Ridge, ElasticNet\n",
    "from sklearn.preprocessing import PolynomialFeatures\n",
    "from sklearn.metrics import mean_squared_error, r2_score\n",
    "from sklearn.pipeline import Pipeline\n",
    "\n",
    "df = pd.read_csv('Life Expectancy Data.csv')\n",
    "print(df.info())\n",
    "print(df.describe())\n",
    "\n",
    "# # Convert 'Year' to datetime (optional) for better time-series handling\n",
    "# df['Year'] = pd.to_datetime(df['Year'], format='%Y', errors='coerce')\n",
    "\n",
    "# Drop columns with more than 30% missing values\n",
    "threshold = 0.3\n",
    "missing_percentage = df.isnull().mean()\n",
    "columns_to_drop = missing_percentage[missing_percentage > threshold].index\n",
    "df = df.drop(columns=columns_to_drop)\n",
    "\n",
    "# Convert 'Status' to a binary representation\n",
    "df['Status'] = df['Status'].map({'Developed': 1, 'Developing': 0})\n",
    "\n",
    "# Fill missing values for numerical columns with the column mean\n",
    "num_cols = df.select_dtypes(include=[np.number]).columns\n",
    "df[num_cols] = df[num_cols].fillna(df[num_cols].mean())\n",
    "\n",
    "# Fill missing values for categorical columns with mode\n",
    "cat_cols = df.select_dtypes(include=['object']).columns\n",
    "for col in cat_cols:\n",
    "    df[col].fillna(df[col].mode()[0], inplace=True)\n",
    "\n",
    "# Drop irrelevant columns if any (e.g., 'Country', if you want to focus on global patterns)\n",
    "df = df.drop(columns=['Country'])  # Uncomment if 'Country' column shouldn't be dropped\n",
    "\n",
    "# Drop duplicates\n",
    "df = df.drop_duplicates()\n",
    "\n",
    "# Reset index after cleaning\n",
    "df.reset_index(drop=True, inplace=True)\n",
    "\n",
    "# # Ensure 'Year' is removed from the features as it is datetime\n",
    "# df = df.drop(columns=['Year'])\n",
    "\n",
    "# Split data into features and target\n",
    "X = df.drop(columns=['Life expectancy '])\n",
    "y = df['Life expectancy ']\n",
    "\n",
    "# Split data into training and testing sets\n",
    "X_train, X_test, y_train, y_test = train_test_split(X, y, test_size=0.2, random_state=123)"
   ]
  },
  {
   "cell_type": "markdown",
   "metadata": {},
   "source": [
    "## Implementing the Regression Models\n",
    "Take a look at the sample linear regression function, and implement the other function in the same manner. "
   ]
  },
  {
   "cell_type": "markdown",
   "metadata": {},
   "source": [
    "#### Sample Linear Regression"
   ]
  },
  {
   "cell_type": "code",
   "execution_count": null,
   "metadata": {},
   "outputs": [],
   "source": [
    "def sample_linear_regression(X_train, y_train, X_test, y_test, n_iterations=100):\n",
    "    mse_scores = []\n",
    "    r2_scores = []\n",
    "    \n",
    "    for _ in range(n_iterations):\n",
    "        model = LinearRegression()\n",
    "        model.fit(X_train, y_train)\n",
    "        y_pred = model.predict(X_test)\n",
    "        mse = mean_squared_error(y_test, y_pred)\n",
    "        r2 = r2_score(y_test, y_pred)\n",
    "        mse_scores.append(mse)\n",
    "        r2_scores.append(r2)\n",
    "    \n",
    "    # Average the scores over all iterations\n",
    "    avg_mse = np.mean(mse_scores)\n",
    "    avg_r2 = np.mean(r2_scores)\n",
    "    \n",
    "    return avg_mse, avg_r2"
   ]
  },
  {
   "cell_type": "code",
   "execution_count": null,
   "metadata": {},
   "outputs": [],
   "source": [
    "import numpy as np\n",
    "from sklearn.linear_model import LinearRegression\n",
    "from sklearn.metrics import mean_squared_error, r2_score\n",
    "\n",
    "def linear_regression(X_train, y_train, X_test, y_test, n_iterations=100):\n",
    "    # YOUR CODE HERE\n",
    "    \n",
    "    return avg_mse, avg_r2"
   ]
  },
  {
   "cell_type": "code",
   "execution_count": null,
   "metadata": {},
   "outputs": [],
   "source": [
    "# Lasso Regression\n",
    "def lasso_regression(X_train, y_train, X_test, y_test, alpha=1.0, n_iterations=100):\n",
    "    # YOUR CODE HERE\n",
    "    \n",
    "    return avg_mse, avg_r2"
   ]
  },
  {
   "cell_type": "code",
   "execution_count": null,
   "metadata": {},
   "outputs": [],
   "source": [
    "# Ridge Regression\n",
    "def ridge_regression(X_train, y_train, X_test, y_test, alpha=1.0, n_iterations=100):\n",
    "    # YOUR CODE HERE\n",
    "    \n",
    "    return avg_mse, avg_r2"
   ]
  },
  {
   "cell_type": "code",
   "execution_count": null,
   "metadata": {},
   "outputs": [],
   "source": [
    "# Elastic Net Regression\n",
    "def elastic_net_regression(X_train, y_train, X_test, y_test, alpha=1.0, l1_ratio=0.5, n_iterations=100):\n",
    "    # YOUR CODE HERE\n",
    "    \n",
    "    return avg_mse, avg_r2"
   ]
  },
  {
   "cell_type": "markdown",
   "metadata": {},
   "source": [
    "## Evaluation"
   ]
  },
  {
   "cell_type": "code",
   "execution_count": null,
   "metadata": {},
   "outputs": [],
   "source": [
    "import warnings\n",
    "\n",
    "warnings.filterwarnings(\"ignore\", category=UserWarning, module='sklearn')\n",
    "\n",
    "# Train models and collect results\n",
    "results = {}\n",
    "results['Linear Regression'] = linear_regression(X_train, y_train, X_test, y_test, n_iterations=100)\n",
    "results['Lasso Regression'] = lasso_regression(X_train, y_train, X_test, y_test, alpha=1.0, n_iterations=100)\n",
    "results['Ridge Regression'] = ridge_regression(X_train, y_train, X_test, y_test, alpha=1.0, n_iterations=100)\n",
    "results['Elastic Net Regression'] = elastic_net_regression(X_train, y_train, X_test, y_test, alpha=1.0, l1_ratio=0.5, n_iterations=100)\n",
    "\n",
    "# Print results\n",
    "for k, v in results.items():\n",
    "    print(f\"{k} - Mean Squared Error: {v[0]:.2f}, R^2 Score: {v[1]:.2f}\")"
   ]
  },
  {
   "cell_type": "markdown",
   "metadata": {},
   "source": [
    "## Inferences\n",
    "To answer these questions, you are expected to continue experimentation. You may plot graphs, etc. to arrive at conclusions. All questions are to be backed up with proper reasoning.\n",
    "\n",
    "(Answer the questions in the same markdown cells)"
   ]
  },
  {
   "cell_type": "markdown",
   "metadata": {},
   "source": [
    "1. How does the performance of the Linear Regression model compare with other regression models (Lasso, Ridge, Elastic Net) based on Mean Squared Error (MSE) and R^2 Score?"
   ]
  },
  {
   "cell_type": "markdown",
   "metadata": {},
   "source": [
    "2. Which features are selected by Lasso Regression, and how does this compare with the features used in Linear Regression?"
   ]
  },
  {
   "cell_type": "markdown",
   "metadata": {},
   "source": [
    "3. How does Ridge Regression with different alpha values impact the model's performance and feature coefficients?"
   ]
  },
  {
   "cell_type": "markdown",
   "metadata": {},
   "source": [
    "4. How does Elastic Net's combination of Lasso and Ridge Regression affect feature selection and model performance?"
   ]
  }
 ],
 "metadata": {
  "kernelspec": {
   "display_name": "base",
   "language": "python",
   "name": "python3"
  },
  "language_info": {
   "codemirror_mode": {
    "name": "ipython",
    "version": 3
   },
   "file_extension": ".py",
   "mimetype": "text/x-python",
   "name": "python",
   "nbconvert_exporter": "python",
   "pygments_lexer": "ipython3",
   "version": "3.11.5"
  }
 },
 "nbformat": 4,
 "nbformat_minor": 2
}
